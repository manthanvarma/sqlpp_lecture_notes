{
 "cells": [
  {
   "cell_type": "code",
   "execution_count": 1,
   "id": "64e4d1bf",
   "metadata": {},
   "outputs": [],
   "source": [
    "a = 4\n",
    "b = 5\n",
    "c = 5"
   ]
  },
  {
   "cell_type": "code",
   "execution_count": 3,
   "id": "6b539698",
   "metadata": {},
   "outputs": [
    {
     "name": "stdout",
     "output_type": "stream",
     "text": [
      "140720672510856\n",
      "140720672510888\n",
      "140720672510888\n"
     ]
    }
   ],
   "source": [
    "print(id(a))\n",
    "print(id(b))\n",
    "print(id(c))"
   ]
  },
  {
   "cell_type": "code",
   "execution_count": 4,
   "id": "de49fffb",
   "metadata": {},
   "outputs": [
    {
     "name": "stdout",
     "output_type": "stream",
     "text": [
      "False\n"
     ]
    }
   ],
   "source": [
    "print(a == c)"
   ]
  },
  {
   "cell_type": "code",
   "execution_count": 5,
   "id": "c523661d",
   "metadata": {},
   "outputs": [],
   "source": [
    "a = ['a','b',9]\n",
    "b = ['a','c']\n",
    "c = ['a','b',9]"
   ]
  },
  {
   "cell_type": "code",
   "execution_count": 6,
   "id": "b4ec12d9",
   "metadata": {},
   "outputs": [
    {
     "name": "stdout",
     "output_type": "stream",
     "text": [
      "True\n",
      "2221389190208\n",
      "2221389192064\n"
     ]
    }
   ],
   "source": [
    "print(a==c)\n",
    "print(id(a))\n",
    "print(id(b))"
   ]
  },
  {
   "cell_type": "code",
   "execution_count": 7,
   "id": "d664618f",
   "metadata": {},
   "outputs": [
    {
     "name": "stdout",
     "output_type": "stream",
     "text": [
      "1\n",
      "[1, 2, 6, 7]\n"
     ]
    }
   ],
   "source": [
    "#Program for common members\n",
    "\n",
    "l1 = [1,2,3]\n",
    "l2 = [4,5,1]\n",
    "\n",
    "for i in l1:\n",
    "  for j in l2:\n",
    "    if (i==j):\n",
    "      print(i)\n",
    "\n",
    "#program for uncommon members\n",
    "\n",
    "list1 = [1, 2, 3, 4, 5]\n",
    "list2 = [3, 4, 5, 6, 7]\n",
    "\n",
    "uncommon = []\n",
    "\n",
    "for x in list1 + list2:\n",
    "    if x not in list1 or x not in list2:\n",
    "        uncommon.append(x)\n",
    "\n",
    "print(uncommon)\n"
   ]
  },
  {
   "cell_type": "code",
   "execution_count": 8,
   "id": "1789a507",
   "metadata": {},
   "outputs": [
    {
     "name": "stdout",
     "output_type": "stream",
     "text": [
      "1\n",
      "2\n",
      "3\n",
      "4\n",
      "5\n",
      "6\n",
      "7\n",
      "8\n",
      "9\n",
      "10\n"
     ]
    }
   ],
   "source": [
    "i = 1\n",
    "while(i<11):\n",
    "  print(i)\n",
    "  i = i+1"
   ]
  },
  {
   "cell_type": "code",
   "execution_count": 12,
   "id": "e8f2af31",
   "metadata": {},
   "outputs": [
    {
     "name": "stdout",
     "output_type": "stream",
     "text": [
      "0\n",
      "2\n",
      "4\n",
      "6\n",
      "8\n"
     ]
    }
   ],
   "source": [
    "l1 = [1,2,3,4,5,6,7,8,9,10]\n",
    "for j in range(0,9,2):\n",
    "    print(j)"
   ]
  },
  {
   "cell_type": "code",
   "execution_count": null,
   "id": "2f861d24",
   "metadata": {},
   "outputs": [],
   "source": []
  }
 ],
 "metadata": {
  "kernelspec": {
   "display_name": "Python 3 (ipykernel)",
   "language": "python",
   "name": "python3"
  },
  "language_info": {
   "codemirror_mode": {
    "name": "ipython",
    "version": 3
   },
   "file_extension": ".py",
   "mimetype": "text/x-python",
   "name": "python",
   "nbconvert_exporter": "python",
   "pygments_lexer": "ipython3",
   "version": "3.11.5"
  }
 },
 "nbformat": 4,
 "nbformat_minor": 5
}
