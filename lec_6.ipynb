{
 "cells": [
  {
   "cell_type": "markdown",
   "metadata": {},
   "source": [
    "primary key is used to define one and only one instant of an entity"
   ]
  },
  {
   "cell_type": "markdown",
   "metadata": {},
   "source": [
    "candidate key is a set of attributes that uniquely identify a tuple"
   ]
  },
  {
   "cell_type": "markdown",
   "metadata": {},
   "source": [
    "super key is supersubset of candidate key"
   ]
  },
  {
   "cell_type": "markdown",
   "metadata": {},
   "source": [
    "foreign key are used to point primary key of another table"
   ]
  },
  {
   "cell_type": "markdown",
   "metadata": {},
   "source": [
    "composite key, when primary key consist of more than one attribute it is called composite key"
   ]
  },
  {
   "cell_type": "markdown",
   "metadata": {},
   "source": [
    "artificial key created using arbitarity assigned data"
   ]
  },
  {
   "cell_type": "markdown",
   "metadata": {},
   "source": [
    "types of integrity constraint<br><br>domain constraints<br>entity constraints<br>Referential constraints<br>user-defined integrity constraint"
   ]
  },
  {
   "cell_type": "markdown",
   "metadata": {},
   "source": [
    "Cardinality<br><br>One to one<br>One to many<br>Many to one<br>many to many"
   ]
  },
  {
   "cell_type": "markdown",
   "metadata": {},
   "source": []
  }
 ],
 "metadata": {
  "language_info": {
   "name": "python"
  }
 },
 "nbformat": 4,
 "nbformat_minor": 2
}
